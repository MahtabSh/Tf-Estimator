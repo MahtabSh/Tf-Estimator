{
  "nbformat": 4,
  "nbformat_minor": 0,
  "metadata": {
    "colab": {
      "name": "tensorflow1.ipynb",
      "version": "0.3.2",
      "provenance": [],
      "collapsed_sections": []
    },
    "kernelspec": {
      "name": "python3",
      "display_name": "Python 3"
    }
  },
  "cells": [
    {
      "metadata": {
        "id": "5hEuz2erkPK_",
        "colab_type": "code",
        "colab": {
          "base_uri": "https://localhost:8080/",
          "height": 198
        },
        "outputId": "83d461e6-95d4-404e-e98a-30d8f9e281eb"
      },
      "cell_type": "code",
      "source": [
        "import numpy as np\n",
        "import pandas as pd\n",
        "import matplotlib.pyplot as plt\n",
        "%matplotlib inline\n",
        "import tensorflow as tf\n",
        "x_data=np.linspace(0.0,10.0,1000000)\n",
        "noise=np.random.randn(len(x_data))\n",
        "#y=mx+b\n",
        "#m=0.5\n",
        "#b=5\n",
        "y_true=(0.5*x_data)+5+noise\n",
        "x_df=pd.DataFrame(data=x_data,columns=['X Data'])\n",
        "y_df=pd.DataFrame(data=y_true,columns=['Y'])\n",
        "my_data=pd.concat([x_df,y_df],axis=1)\n",
        "my_data.head()\n"
      ],
      "execution_count": 2,
      "outputs": [
        {
          "output_type": "execute_result",
          "data": {
            "text/html": [
              "<div>\n",
              "<style scoped>\n",
              "    .dataframe tbody tr th:only-of-type {\n",
              "        vertical-align: middle;\n",
              "    }\n",
              "\n",
              "    .dataframe tbody tr th {\n",
              "        vertical-align: top;\n",
              "    }\n",
              "\n",
              "    .dataframe thead th {\n",
              "        text-align: right;\n",
              "    }\n",
              "</style>\n",
              "<table border=\"1\" class=\"dataframe\">\n",
              "  <thead>\n",
              "    <tr style=\"text-align: right;\">\n",
              "      <th></th>\n",
              "      <th>X Data</th>\n",
              "      <th>Y</th>\n",
              "    </tr>\n",
              "  </thead>\n",
              "  <tbody>\n",
              "    <tr>\n",
              "      <th>0</th>\n",
              "      <td>0.00000</td>\n",
              "      <td>4.598677</td>\n",
              "    </tr>\n",
              "    <tr>\n",
              "      <th>1</th>\n",
              "      <td>0.00001</td>\n",
              "      <td>7.065014</td>\n",
              "    </tr>\n",
              "    <tr>\n",
              "      <th>2</th>\n",
              "      <td>0.00002</td>\n",
              "      <td>6.604437</td>\n",
              "    </tr>\n",
              "    <tr>\n",
              "      <th>3</th>\n",
              "      <td>0.00003</td>\n",
              "      <td>4.422490</td>\n",
              "    </tr>\n",
              "    <tr>\n",
              "      <th>4</th>\n",
              "      <td>0.00004</td>\n",
              "      <td>6.007339</td>\n",
              "    </tr>\n",
              "  </tbody>\n",
              "</table>\n",
              "</div>"
            ],
            "text/plain": [
              "    X Data         Y\n",
              "0  0.00000  4.598677\n",
              "1  0.00001  7.065014\n",
              "2  0.00002  6.604437\n",
              "3  0.00003  4.422490\n",
              "4  0.00004  6.007339"
            ]
          },
          "metadata": {
            "tags": []
          },
          "execution_count": 2
        }
      ]
    },
    {
      "metadata": {
        "id": "D3gAPqC2yiS8",
        "colab_type": "code",
        "colab": {
          "base_uri": "https://localhost:8080/",
          "height": 297
        },
        "outputId": "fb48a760-774a-47df-e29e-cccc537aed30"
      },
      "cell_type": "code",
      "source": [
        "my_data.sample(n=250).plot(kind='scatter',x='X Data',y='Y')\n"
      ],
      "execution_count": 3,
      "outputs": [
        {
          "output_type": "execute_result",
          "data": {
            "text/plain": [
              "<matplotlib.axes._subplots.AxesSubplot at 0x7faf832b77b8>"
            ]
          },
          "metadata": {
            "tags": []
          },
          "execution_count": 3
        },
        {
          "output_type": "display_data",
          "data": {
            "image/png": "[encoded data removed]",
            "text/plain": [
              "<matplotlib.figure.Figure at 0x7faf8329eda0>"
            ]
          },
          "metadata": {
            "tags": []
          }
        }
      ]
    },
    {
      "metadata": {
        "id": "Ww5lnDgKyweh",
        "colab_type": "code",
        "colab": {
          "base_uri": "https://localhost:8080/",
          "height": 35
        },
        "outputId": "445a0469-daab-47b9-aeac-1a21f809aa87"
      },
      "cell_type": "code",
      "source": [
        "batch_size=8\n",
        "print(np.random.randn(2))\n"
      ],
      "execution_count": 4,
      "outputs": [
        {
          "output_type": "stream",
          "text": [
            "[-0.71384852  2.82799865]\n"
          ],
          "name": "stdout"
        }
      ]
    },
    {
      "metadata": {
        "id": "ydlNot32y8N4",
        "colab_type": "code",
        "colab": {
          "base_uri": "https://localhost:8080/",
          "height": 35
        },
        "outputId": "8b9e465f-904a-48a0-b803-b9e236274ebd"
      },
      "cell_type": "code",
      "source": [
        "m=tf.Variable(0.61692676)\n",
        "b=tf.Variable(1.54499345)\n",
        "xph=tf.placeholder(tf.float32,[batch_size])\n",
        "yph=tf.placeholder(tf.float32,[batch_size])\n",
        "y_model=m*xph+b\n",
        "error=tf.reduce_sum(tf.square(yph-y_model))\n",
        "optimizer=tf.train.GradientDescentOptimizer(learning_rate=0.001)\n",
        "train=optimizer.minimize(error)\n",
        "init=tf.global_variables_initializer()\n",
        "with tf.Session() as sess:\n",
        "  sess.run(init)\n",
        "  batches=10000\n",
        "  for i in  range(batches):\n",
        "    rand_ind=np.random.randint(len(x_data),size=batch_size)\n",
        "    feed={xph:x_data[rand_ind],yph:y_true[rand_ind]}\n",
        "    sess.run(train,feed_dict=feed)\n",
        "  model_m,model_b=sess.run([m,b])\n",
        "  print(model_m,model_b)\n",
        "  \n",
        "  y_hat=x_data*model_m+model_b    "
      ],
      "execution_count": 5,
      "outputs": [
        {
          "output_type": "stream",
          "text": [
            "0.48189518 5.002145\n"
          ],
          "name": "stdout"
        }
      ]
    },
    {
      "metadata": {
        "id": "l3AEId9O1sE0",
        "colab_type": "code",
        "colab": {
          "base_uri": "https://localhost:8080/",
          "height": 297
        },
        "outputId": "aeaa6e97-d2f3-4cb5-ce7a-086c595fc3e7"
      },
      "cell_type": "code",
      "source": [
        "my_data.sample(250).plot(kind='scatter',x='X Data',y='Y')\n",
        "plt.plot(x_data,y_hat,'r')\n"
      ],
      "execution_count": 6,
      "outputs": [
        {
          "output_type": "execute_result",
          "data": {
            "text/plain": [
              "[<matplotlib.lines.Line2D at 0x7faf6e7a1e80>]"
            ]
          },
          "metadata": {
            "tags": []
          },
          "execution_count": 6
        },
        {
          "output_type": "display_data",
          "data": {
            "image/png": "[encoded data removed]",
            "text/plain": [
              "<matplotlib.figure.Figure at 0x7faf8329ed30>"
            ]
          },
          "metadata": {
            "tags": []
          }
        }
      ]
    },
    {
      "metadata": {
        "id": "2AxUgJDCNnkd",
        "colab_type": "code",
        "colab": {}
      },
      "cell_type": "code",
      "source": [
        "feat_cols=[tf.feature_column.numeric_column('X',shape=[1])]\n",
        "\n",
        "#construc linear regression model\n",
        "\n",
        "estimator=tf.estimator.LinearRegressor(feature_columns=feat_cols)\n",
        "\n",
        "from sklearn.model_selection import train_test_split\n",
        "\n",
        "x_train,x_test,y_train,y_test=train_test_split(x_data,y_true,test_size=0.3,random_state=101)\n",
        "\n",
        "input_func=tf.estimator.inputs.numpy_input_fn({'X':x_train},y_train,batch_size=8,num_epochs=None,shuffle=True)\n",
        "\n",
        "train_input_func=tf.estimator.inputs.numpy_input_fn({'X':x_train},y_train,batch_size=8,num_epochs=1000,shuffle=False)\n",
        "\n",
        "test_input_func=tf.estimator.inputs.numpy_input_fn({'X':x_test},y_test,batch_size=8,num_epochs=1000,shuffle=False)\n",
        "\n",
        "#train estimator\n",
        "estimator.train(input_fn=input_func,steps=1000)\n",
        "\n",
        "#evaluate the model based on train data\n",
        "\n",
        "train_metrics=estimator.evaluate(input_fn=train_input_func,steps=1000)\n",
        "\n",
        "#evaluate the model based on test data\n",
        "\n",
        "test_metrics=estimator.evaluate(input_fn=test_input_func,steps=100)\n"
      ],
      "execution_count": 0,
      "outputs": []
    },
    {
      "metadata": {
        "id": "V1OUIAJqa4jS",
        "colab_type": "code",
        "colab": {
          "base_uri": "https://localhost:8080/",
          "height": 90
        },
        "outputId": "ef2aee6d-4d43-400a-de8d-2ce2efdaad42"
      },
      "cell_type": "code",
      "source": [
        "print(\"Training Data Metrics\")\n",
        "\n",
        "print(train_metrics)\n",
        "\n",
        "\n",
        "print(\"Test Data Metrics\")\n",
        "\n",
        "print(test_metrics)"
      ],
      "execution_count": 14,
      "outputs": [
        {
          "output_type": "stream",
          "text": [
            "Training Data Metrics\n",
            "{'average_loss': 1.1462057, 'label/mean': 7.4948997, 'loss': 9.169645, 'prediction/mean': 7.3239055, 'global_step': 1000}\n",
            "Test Data Metrics\n",
            "{'average_loss': 1.1455785, 'label/mean': 7.548057, 'loss': 9.164628, 'prediction/mean': 7.3573694, 'global_step': 1000}\n"
          ],
          "name": "stdout"
        }
      ]
    },
    {
      "metadata": {
        "id": "4ZBWx5VfbHaC",
        "colab_type": "code",
        "colab": {
          "base_uri": "https://localhost:8080/",
          "height": 308
        },
        "outputId": "57e39c02-0461-4659-e9cb-4110c5fa8f1c"
      },
      "cell_type": "code",
      "source": [
        "#test model on new data\n",
        "brand_new_data=np.linspace(0,10,10)\n",
        "\n",
        "input_fn_predict=tf.estimator.inputs.numpy_input_fn({'X':brand_new_data},shuffle=False)\n",
        "\n",
        "list(estimator.predict(input_fn=input_fn_predict))\n",
        "\n"
      ],
      "execution_count": 15,
      "outputs": [
        {
          "output_type": "stream",
          "text": [
            "INFO:tensorflow:Calling model_fn.\n",
            "INFO:tensorflow:Done calling model_fn.\n",
            "INFO:tensorflow:Graph was finalized.\n",
            "INFO:tensorflow:Restoring parameters from /tmp/tmpsx5trm05/model.ckpt-1000\n",
            "INFO:tensorflow:Running local_init_op.\n",
            "INFO:tensorflow:Done running local_init_op.\n"
          ],
          "name": "stdout"
        },
        {
          "output_type": "execute_result",
          "data": {
            "text/plain": [
              "[{'predictions': array([4.2903647], dtype=float32)},\n",
              " {'predictions': array([4.964181], dtype=float32)},\n",
              " {'predictions': array([5.6379967], dtype=float32)},\n",
              " {'predictions': array([6.311813], dtype=float32)},\n",
              " {'predictions': array([6.985629], dtype=float32)},\n",
              " {'predictions': array([7.659445], dtype=float32)},\n",
              " {'predictions': array([8.3332615], dtype=float32)},\n",
              " {'predictions': array([9.007077], dtype=float32)},\n",
              " {'predictions': array([9.680893], dtype=float32)},\n",
              " {'predictions': array([10.35471], dtype=float32)}]"
            ]
          },
          "metadata": {
            "tags": []
          },
          "execution_count": 15
        }
      ]
    },
    {
      "metadata": {
        "id": "2TW6K8FGb2La",
        "colab_type": "code",
        "colab": {
          "base_uri": "https://localhost:8080/",
          "height": 406
        },
        "outputId": "913fc175-8518-48fc-ac1b-534f31697a66"
      },
      "cell_type": "code",
      "source": [
        "predictions=[]\n",
        "for pred in estimator.predict(input_fn=input_fn_predict):\n",
        "  predictions.append(pred['predictions'])\n",
        "\n",
        "my_data.sample(n=250).plot(kind='scatter',x='X Data',y='Y')\n",
        "\n",
        "plt.plot(brand_new_data,predictions,'r*')\n"
      ],
      "execution_count": 19,
      "outputs": [
        {
          "output_type": "stream",
          "text": [
            "INFO:tensorflow:Calling model_fn.\n",
            "INFO:tensorflow:Done calling model_fn.\n",
            "INFO:tensorflow:Graph was finalized.\n",
            "INFO:tensorflow:Restoring parameters from /tmp/tmpsx5trm05/model.ckpt-1000\n",
            "INFO:tensorflow:Running local_init_op.\n",
            "INFO:tensorflow:Done running local_init_op.\n"
          ],
          "name": "stdout"
        },
        {
          "output_type": "execute_result",
          "data": {
            "text/plain": [
              "[<matplotlib.lines.Line2D at 0x7faf6ace94e0>]"
            ]
          },
          "metadata": {
            "tags": []
          },
          "execution_count": 19
        },
        {
          "output_type": "display_data",
          "data": {
            "image/png": "[encoded data removed]",
            "text/plain": [
              "<matplotlib.figure.Figure at 0x7faf6ad17390>"
            ]
          },
          "metadata": {
            "tags": []
          }
        }
      ]
    }
  ]
}